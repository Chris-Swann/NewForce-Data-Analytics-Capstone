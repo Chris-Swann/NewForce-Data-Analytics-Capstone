{
 "cells": [
  {
   "cell_type": "code",
   "execution_count": null,
   "id": "5ab998cf-55a4-4e80-aa82-393db3698f98",
   "metadata": {},
   "outputs": [],
   "source": [
    "import pandas as pd\n",
    "import yaml\n",
    "import time\n",
    "from selenium import webdriver\n",
    "from selenium.webdriver.common.by import By\n",
    "from selenium.webdriver.chrome.options import Options\n",
    "from selenium.webdriver.support.ui import WebDriverWait\n",
    "from selenium.webdriver.support import expected_conditions as EC\n",
    "from bs4 import BeautifulSoup"
   ]
  },
  {
   "cell_type": "markdown",
   "id": "e42d3d04-76b3-4983-80c6-b4c34ba6efdd",
   "metadata": {},
   "source": [
    "#### Race YAML structure\n",
    "> Update to match data for each individual race"
   ]
  },
  {
   "cell_type": "code",
   "execution_count": null,
   "id": "e3a582ac-6088-4809-ab40-e8a09228aae0",
   "metadata": {},
   "outputs": [],
   "source": [
    "***_race = {\n",
    "    'race_name': '***',\n",
    "    'race_loc': '***',\n",
    "    'race_dist': '***',\n",
    "    'race_uris': {\n",
    "        Year: 'uri',\n",
    "    },\n",
    "    'dates': {\n",
    "        Year: 'May 12, 2025',\n",
    "    }\n",
    "}\n",
    "\n",
    "with open(\"../config/***.yaml\", \"w\") as f:\n",
    "    yaml.dump(ccc_race, f)"
   ]
  },
  {
   "cell_type": "markdown",
   "id": "c24fde6f-3f13-48d2-b1e5-80891d74fa05",
   "metadata": {},
   "source": [
    "#### Run Once "
   ]
  },
  {
   "cell_type": "code",
   "execution_count": null,
   "id": "55a5ef50-4e22-4239-abbc-a436203d6d52",
   "metadata": {},
   "outputs": [],
   "source": [
    "def scrape_all_pages(driver, year, race_date, race_name, race_loc, race_dist):\n",
    "    data = []\n",
    "    page = 1\n",
    "\n",
    "    while True:\n",
    "        print(f\"Scraping page {page} for {race_name} {year}\")\n",
    "        time.sleep(2)\n",
    "        soup = BeautifulSoup(driver.page_source, 'html.parser')\n",
    "        rows = soup.find_all('div', class_='my-table_row__nlm_j')\n",
    "        print(f\"Total rows found on page {page}: {len(rows)}\")\n",
    "\n",
    "        # Debug: print all visible pagination links\n",
    "        pagination_links = driver.find_elements(By.XPATH, \"//a[contains(@class, 'pagination_paginate_link')]\")\n",
    "        print(\"Found page links:\", [link.text for link in pagination_links])\n",
    "\n",
    "        for row in rows:\n",
    "            cells = row.find_all('div', class_='my-table_cell__z__zN')\n",
    "            if len(cells) < 6:\n",
    "                continue\n",
    "\n",
    "            rank = cells[0].get_text(strip=True)\n",
    "            status = 'DNF' if rank.upper() == 'DNF' else 'Finisher'\n",
    "            name = cells[1].get_text(strip=True).lower()\n",
    "            nationality_raw = cells[2].get_text(strip=True).lower()\n",
    "            nationality = 'USA' if 'united states of america' in nationality_raw else nationality_raw.upper()\n",
    "            gender_raw = cells[3].get_text(strip=True)\n",
    "            gender = 'M' if 'Men' in gender_raw else 'F' if 'Women' in gender_raw else gender_raw\n",
    "            age_category = cells[4].get_text(strip=True)\n",
    "            time_str = cells[5].get_text(strip=True)\n",
    "\n",
    "            data.append({\n",
    "                'Date': race_date,\n",
    "                'Year': int(year),\n",
    "                'Rank': rank,\n",
    "                'Status': status,\n",
    "                'Name': name,\n",
    "                'Nationality': nationality,\n",
    "                'Gender': gender,\n",
    "                'Age_Category': age_category,\n",
    "                'Time': time_str,\n",
    "                'Race': race_name,\n",
    "                'Race_Loc': race_loc,\n",
    "                'Race_Dist': race_dist\n",
    "            })\n",
    "\n",
    "        # Try to find the next page button by its text label\n",
    "        try:\n",
    "            next_page = str(page + 1)\n",
    "            next_link = WebDriverWait(driver, 5).until(\n",
    "                EC.presence_of_element_located((By.XPATH, f\"//a[normalize-space(text())='{next_page}']\"))\n",
    "            )\n",
    "            driver.execute_script(\"arguments[0].click();\", next_link)\n",
    "            page += 1\n",
    "            time.sleep(3)  # Delay to avoid rate limits\n",
    "        except:\n",
    "            print(\"No more pages found.\")\n",
    "            break\n",
    "\n",
    "    return pd.DataFrame(data)\n",
    "\n",
    "\n",
    "def scrape_utmb_race(year, race_date, race_name, race_loc, race_dist, race_uri):\n",
    "    url = f\"https://montblanc.utmb.world/results?year={year}&raceUri={race_uri}.{year}\"\n",
    "    \n",
    "    options = Options()\n",
    "    options.add_argument(\"--headless\")\n",
    "    driver = webdriver.Chrome(options=options)\n",
    "    driver.get(url)\n",
    "    time.sleep(3)\n",
    "\n",
    "    df = scrape_all_pages(driver, year, race_date, race_name, race_loc, race_dist)\n",
    "    driver.quit()\n",
    "    return df"
   ]
  },
  {
   "cell_type": "markdown",
   "id": "87bc0fb4-2449-41e3-a4b1-022efed58518",
   "metadata": {},
   "source": [
    "## Insert race yaml for desired query and run the next to cell blocks\n",
    "#### Update \"../config/{race.yaml}\""
   ]
  },
  {
   "cell_type": "code",
   "execution_count": null,
   "id": "4f09b60c-0b5d-4193-9fe7-125dd12936ef",
   "metadata": {},
   "outputs": [],
   "source": [
    "race_yaml = \"../config/UTCC_120k.yaml\"\n",
    "\n",
    "with open(race_yaml, \"r\") as f:\n",
    "    race = yaml.safe_load(f)"
   ]
  },
  {
   "cell_type": "code",
   "execution_count": null,
   "id": "003e8232-fcc0-49e0-83e3-9bcf07d51ee8",
   "metadata": {},
   "outputs": [],
   "source": [
    "all_results = []\n",
    "\n",
    "for year, date in race[\"dates\"].items():\n",
    "    uri = race[\"race_uris\"].get(year)\n",
    "    if not uri:\n",
    "        print(f\"No URI found for {year}, skipping.\")\n",
    "        continue\n",
    "\n",
    "    df = scrape_utmb_race(\n",
    "        year=year,\n",
    "        race_date=date,\n",
    "        race_name=race[\"race_name\"],\n",
    "        race_loc=race[\"race_loc\"],\n",
    "        race_dist=race[\"race_dist\"],\n",
    "        race_uri=uri\n",
    "    )\n",
    "    all_results.append(df)\n",
    "\n",
    "# Combine all results into a single DataFrame\n",
    "race_df = pd.concat(all_results, ignore_index=True)"
   ]
  }
 ],
 "metadata": {
  "kernelspec": {
   "display_name": "Python [conda env:base] *",
   "language": "python",
   "name": "conda-base-py"
  },
  "language_info": {
   "codemirror_mode": {
    "name": "ipython",
    "version": 3
   },
   "file_extension": ".py",
   "mimetype": "text/x-python",
   "name": "python",
   "nbconvert_exporter": "python",
   "pygments_lexer": "ipython3",
   "version": "3.13.5"
  }
 },
 "nbformat": 4,
 "nbformat_minor": 5
}
